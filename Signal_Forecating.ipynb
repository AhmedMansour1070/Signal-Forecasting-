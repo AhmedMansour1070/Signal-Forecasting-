{
 "cells": [
  {
   "cell_type": "markdown",
   "id": "2a12e721",
   "metadata": {
    "id": "2a12e721"
   },
   "source": [
    "<center>\n",
    "<img src=\"https://media.istockphoto.com/id/1399159329/photo/timeline-sound-wave-running-audio-track.jpg?s=612x612&w=0&k=20&c=Ew6W9EPd44G5UWzXk_2lF3RWdl19F4J9iPqUc1XxsmQ=\">\n",
    "    \n",
    "## [Github](https://github.com/AhmedMansour1070) – Ahmed Hany \n",
    "### <center> Email: ahmedhany1070@gmail.com\n",
    "    \n",
    "# <center><font  color=\"red\"> Signals Forecasting NoteBook</font>\n"
   ]
  },
  {
   "cell_type": "markdown",
   "id": "c4d9f2b9",
   "metadata": {
    "id": "c4d9f2b9"
   },
   "source": [
    "## Import the packages"
   ]
  },
  {
   "cell_type": "code",
   "execution_count": 4,
   "id": "07481c03",
   "metadata": {
    "id": "07481c03"
   },
   "outputs": [
    {
     "ename": "RuntimeError",
     "evalue": "module compiled against API version 0xe but this version of numpy is 0xd",
     "output_type": "error",
     "traceback": [
      "\u001b[1;31m---------------------------------------------------------------------------\u001b[0m",
      "\u001b[1;31mRuntimeError\u001b[0m                              Traceback (most recent call last)",
      "\u001b[1;31mRuntimeError\u001b[0m: module compiled against API version 0xe but this version of numpy is 0xd"
     ]
    },
    {
     "ename": "ImportError",
     "evalue": "initialization failed",
     "output_type": "error",
     "traceback": [
      "\u001b[1;31m---------------------------------------------------------------------------\u001b[0m",
      "\u001b[1;31mImportError\u001b[0m                               Traceback (most recent call last)",
      "\u001b[1;31mImportError\u001b[0m: numpy.core.multiarray failed to import",
      "\nThe above exception was the direct cause of the following exception:\n",
      "\u001b[1;31mSystemError\u001b[0m                               Traceback (most recent call last)",
      "\u001b[1;31mSystemError\u001b[0m: <built-in method __contains__ of dict object at 0x0000018B7E067BC0> returned a result with an error set",
      "\nThe above exception was the direct cause of the following exception:\n",
      "\u001b[1;31mImportError\u001b[0m                               Traceback (most recent call last)",
      "\u001b[1;32m<ipython-input-4-cb621fd1d28e>\u001b[0m in \u001b[0;36m<module>\u001b[1;34m\u001b[0m\n\u001b[0;32m      1\u001b[0m \u001b[1;32mimport\u001b[0m \u001b[0mnumpy\u001b[0m \u001b[1;32mas\u001b[0m \u001b[0mnp\u001b[0m\u001b[1;33m\u001b[0m\u001b[1;33m\u001b[0m\u001b[0m\n\u001b[1;32m----> 2\u001b[1;33m \u001b[1;32mimport\u001b[0m \u001b[0mtensorflow\u001b[0m \u001b[1;32mas\u001b[0m \u001b[0mtf\u001b[0m\u001b[1;33m\u001b[0m\u001b[1;33m\u001b[0m\u001b[0m\n\u001b[0m\u001b[0;32m      3\u001b[0m \u001b[1;32mfrom\u001b[0m \u001b[0mtensorflow\u001b[0m \u001b[1;32mimport\u001b[0m \u001b[0mkeras\u001b[0m\u001b[1;33m\u001b[0m\u001b[1;33m\u001b[0m\u001b[0m\n\u001b[0;32m      4\u001b[0m \u001b[1;32mimport\u001b[0m \u001b[0mpandas\u001b[0m \u001b[1;32mas\u001b[0m \u001b[0mpd\u001b[0m\u001b[1;33m\u001b[0m\u001b[1;33m\u001b[0m\u001b[0m\n\u001b[0;32m      5\u001b[0m \u001b[1;32mimport\u001b[0m \u001b[0mseaborn\u001b[0m \u001b[1;32mas\u001b[0m \u001b[0msns\u001b[0m\u001b[1;33m\u001b[0m\u001b[1;33m\u001b[0m\u001b[0m\n",
      "\u001b[1;32mD:\\My Things\\Eng. Things\\Anaconda\\lib\\site-packages\\tensorflow\\__init__.py\u001b[0m in \u001b[0;36m<module>\u001b[1;34m\u001b[0m\n\u001b[0;32m     35\u001b[0m \u001b[1;32mimport\u001b[0m \u001b[0mtyping\u001b[0m \u001b[1;32mas\u001b[0m \u001b[0m_typing\u001b[0m\u001b[1;33m\u001b[0m\u001b[1;33m\u001b[0m\u001b[0m\n\u001b[0;32m     36\u001b[0m \u001b[1;33m\u001b[0m\u001b[0m\n\u001b[1;32m---> 37\u001b[1;33m \u001b[1;32mfrom\u001b[0m \u001b[0mtensorflow\u001b[0m\u001b[1;33m.\u001b[0m\u001b[0mpython\u001b[0m\u001b[1;33m.\u001b[0m\u001b[0mtools\u001b[0m \u001b[1;32mimport\u001b[0m \u001b[0mmodule_util\u001b[0m \u001b[1;32mas\u001b[0m \u001b[0m_module_util\u001b[0m\u001b[1;33m\u001b[0m\u001b[1;33m\u001b[0m\u001b[0m\n\u001b[0m\u001b[0;32m     38\u001b[0m \u001b[1;32mfrom\u001b[0m \u001b[0mtensorflow\u001b[0m\u001b[1;33m.\u001b[0m\u001b[0mpython\u001b[0m\u001b[1;33m.\u001b[0m\u001b[0mutil\u001b[0m\u001b[1;33m.\u001b[0m\u001b[0mlazy_loader\u001b[0m \u001b[1;32mimport\u001b[0m \u001b[0mLazyLoader\u001b[0m \u001b[1;32mas\u001b[0m \u001b[0m_LazyLoader\u001b[0m\u001b[1;33m\u001b[0m\u001b[1;33m\u001b[0m\u001b[0m\n\u001b[0;32m     39\u001b[0m \u001b[1;33m\u001b[0m\u001b[0m\n",
      "\u001b[1;32mD:\\My Things\\Eng. Things\\Anaconda\\lib\\site-packages\\tensorflow\\python\\__init__.py\u001b[0m in \u001b[0;36m<module>\u001b[1;34m\u001b[0m\n\u001b[0;32m     35\u001b[0m \u001b[1;33m\u001b[0m\u001b[0m\n\u001b[0;32m     36\u001b[0m \u001b[1;32mfrom\u001b[0m \u001b[0mtensorflow\u001b[0m\u001b[1;33m.\u001b[0m\u001b[0mpython\u001b[0m \u001b[1;32mimport\u001b[0m \u001b[0mpywrap_tensorflow\u001b[0m \u001b[1;32mas\u001b[0m \u001b[0m_pywrap_tensorflow\u001b[0m\u001b[1;33m\u001b[0m\u001b[1;33m\u001b[0m\u001b[0m\n\u001b[1;32m---> 37\u001b[1;33m \u001b[1;32mfrom\u001b[0m \u001b[0mtensorflow\u001b[0m\u001b[1;33m.\u001b[0m\u001b[0mpython\u001b[0m\u001b[1;33m.\u001b[0m\u001b[0meager\u001b[0m \u001b[1;32mimport\u001b[0m \u001b[0mcontext\u001b[0m\u001b[1;33m\u001b[0m\u001b[1;33m\u001b[0m\u001b[0m\n\u001b[0m\u001b[0;32m     38\u001b[0m \u001b[1;33m\u001b[0m\u001b[0m\n\u001b[0;32m     39\u001b[0m \u001b[1;31m# pylint: enable=wildcard-import\u001b[0m\u001b[1;33m\u001b[0m\u001b[1;33m\u001b[0m\u001b[1;33m\u001b[0m\u001b[0m\n",
      "\u001b[1;32mD:\\My Things\\Eng. Things\\Anaconda\\lib\\site-packages\\tensorflow\\python\\eager\\context.py\u001b[0m in \u001b[0;36m<module>\u001b[1;34m\u001b[0m\n\u001b[0;32m     32\u001b[0m \u001b[1;32mfrom\u001b[0m \u001b[0mtensorflow\u001b[0m\u001b[1;33m.\u001b[0m\u001b[0mpython\u001b[0m \u001b[1;32mimport\u001b[0m \u001b[0mpywrap_tfe\u001b[0m\u001b[1;33m\u001b[0m\u001b[1;33m\u001b[0m\u001b[0m\n\u001b[0;32m     33\u001b[0m \u001b[1;32mfrom\u001b[0m \u001b[0mtensorflow\u001b[0m\u001b[1;33m.\u001b[0m\u001b[0mpython\u001b[0m \u001b[1;32mimport\u001b[0m \u001b[0mtf2\u001b[0m\u001b[1;33m\u001b[0m\u001b[1;33m\u001b[0m\u001b[0m\n\u001b[1;32m---> 34\u001b[1;33m \u001b[1;32mfrom\u001b[0m \u001b[0mtensorflow\u001b[0m\u001b[1;33m.\u001b[0m\u001b[0mpython\u001b[0m\u001b[1;33m.\u001b[0m\u001b[0mclient\u001b[0m \u001b[1;32mimport\u001b[0m \u001b[0mpywrap_tf_session\u001b[0m\u001b[1;33m\u001b[0m\u001b[1;33m\u001b[0m\u001b[0m\n\u001b[0m\u001b[0;32m     35\u001b[0m \u001b[1;32mfrom\u001b[0m \u001b[0mtensorflow\u001b[0m\u001b[1;33m.\u001b[0m\u001b[0mpython\u001b[0m\u001b[1;33m.\u001b[0m\u001b[0meager\u001b[0m \u001b[1;32mimport\u001b[0m \u001b[0mexecutor\u001b[0m\u001b[1;33m\u001b[0m\u001b[1;33m\u001b[0m\u001b[0m\n\u001b[0;32m     36\u001b[0m \u001b[1;32mfrom\u001b[0m \u001b[0mtensorflow\u001b[0m\u001b[1;33m.\u001b[0m\u001b[0mpython\u001b[0m\u001b[1;33m.\u001b[0m\u001b[0meager\u001b[0m \u001b[1;32mimport\u001b[0m \u001b[0mmonitoring\u001b[0m\u001b[1;33m\u001b[0m\u001b[1;33m\u001b[0m\u001b[0m\n",
      "\u001b[1;32mD:\\My Things\\Eng. Things\\Anaconda\\lib\\site-packages\\tensorflow\\python\\client\\pywrap_tf_session.py\u001b[0m in \u001b[0;36m<module>\u001b[1;34m\u001b[0m\n\u001b[0;32m     17\u001b[0m \u001b[1;31m# pylint: disable=invalid-import-order,g-bad-import-order, wildcard-import, unused-import\u001b[0m\u001b[1;33m\u001b[0m\u001b[1;33m\u001b[0m\u001b[1;33m\u001b[0m\u001b[0m\n\u001b[0;32m     18\u001b[0m \u001b[1;32mfrom\u001b[0m \u001b[0mtensorflow\u001b[0m\u001b[1;33m.\u001b[0m\u001b[0mpython\u001b[0m \u001b[1;32mimport\u001b[0m \u001b[0mpywrap_tensorflow\u001b[0m\u001b[1;33m\u001b[0m\u001b[1;33m\u001b[0m\u001b[0m\n\u001b[1;32m---> 19\u001b[1;33m \u001b[1;32mfrom\u001b[0m \u001b[0mtensorflow\u001b[0m\u001b[1;33m.\u001b[0m\u001b[0mpython\u001b[0m\u001b[1;33m.\u001b[0m\u001b[0mclient\u001b[0m\u001b[1;33m.\u001b[0m\u001b[0m_pywrap_tf_session\u001b[0m \u001b[1;32mimport\u001b[0m \u001b[1;33m*\u001b[0m\u001b[1;33m\u001b[0m\u001b[1;33m\u001b[0m\u001b[0m\n\u001b[0m\u001b[0;32m     20\u001b[0m \u001b[1;32mfrom\u001b[0m \u001b[0mtensorflow\u001b[0m\u001b[1;33m.\u001b[0m\u001b[0mpython\u001b[0m\u001b[1;33m.\u001b[0m\u001b[0mclient\u001b[0m\u001b[1;33m.\u001b[0m\u001b[0m_pywrap_tf_session\u001b[0m \u001b[1;32mimport\u001b[0m \u001b[0m_TF_SetTarget\u001b[0m\u001b[1;33m\u001b[0m\u001b[1;33m\u001b[0m\u001b[0m\n\u001b[0;32m     21\u001b[0m \u001b[1;32mfrom\u001b[0m \u001b[0mtensorflow\u001b[0m\u001b[1;33m.\u001b[0m\u001b[0mpython\u001b[0m\u001b[1;33m.\u001b[0m\u001b[0mclient\u001b[0m\u001b[1;33m.\u001b[0m\u001b[0m_pywrap_tf_session\u001b[0m \u001b[1;32mimport\u001b[0m \u001b[0m_TF_SetConfig\u001b[0m\u001b[1;33m\u001b[0m\u001b[1;33m\u001b[0m\u001b[0m\n",
      "\u001b[1;31mImportError\u001b[0m: initialization failed"
     ]
    }
   ],
   "source": [
    "import numpy as np\n",
    "import tensorflow as tf\n",
    "from tensorflow import keras\n",
    "import pandas as pd\n",
    "import seaborn as sns\n",
    "from pylab import rcParams\n",
    "import matplotlib.pyplot as plt\n",
    "from matplotlib import rc\n",
    "%matplotlib inline\n",
    "%config InlineBackend.figure_format='retina'\n",
    "sns.set(style='whitegrid', palette='muted', font_scale=1.5)\n",
    "rcParams['figure.figsize'] = 16, 10\n",
    "RANDOM_SEED = 42\n",
    "np.random.seed(RANDOM_SEED)\n",
    "tf.random.set_seed(RANDOM_SEED)\n",
    "import plotly.express as px"
   ]
  },
  {
   "cell_type": "code",
   "execution_count": null,
   "id": "35a1ff7a",
   "metadata": {
    "id": "35a1ff7a"
   },
   "outputs": [],
   "source": []
  },
  {
   "cell_type": "markdown",
   "id": "464079ee",
   "metadata": {
    "id": "464079ee"
   },
   "source": [
    "## <center> Recording An Audio </center>\n",
    "\n",
    "### <center> The following commented code snipts allows you to record your voice or any audio"
   ]
  },
  {
   "cell_type": "code",
   "execution_count": null,
   "id": "2411c3ce",
   "metadata": {
    "colab": {
     "base_uri": "https://localhost:8080/",
     "height": 36
    },
    "id": "2411c3ce",
    "outputId": "f2e8ece8-a985-46aa-aa99-bd77945dc97c"
   },
   "outputs": [],
   "source": [
    "\"\"\"frames = []\n",
    "\n",
    "for i in range(0, int(RATE / CHUNK * RECORD_SECONDS)):\n",
    "    data = stream.read(CHUNK)\n",
    "    frames.append(data)\n",
    "\"\"\""
   ]
  },
  {
   "cell_type": "code",
   "execution_count": null,
   "id": "32654029",
   "metadata": {
    "colab": {
     "base_uri": "https://localhost:8080/",
     "height": 36
    },
    "id": "32654029",
    "outputId": "aae0bcb8-640d-4152-8994-fc291ebbf0cf"
   },
   "outputs": [],
   "source": [
    "\"\"\"stream.stop_stream()\n",
    "stream.close()\n",
    "p.terminate()\"\"\""
   ]
  },
  {
   "cell_type": "code",
   "execution_count": null,
   "id": "1f5eac8d",
   "metadata": {
    "colab": {
     "base_uri": "https://localhost:8080/",
     "height": 53
    },
    "id": "1f5eac8d",
    "outputId": "cc68f297-fbd5-4ace-cf4d-4be7341a1589"
   },
   "outputs": [],
   "source": [
    "\"\"\"import wave\n",
    "\n",
    "wf = wave.open(\"outpuut.wav\", \"wb\")\n",
    "wf.setnchannels(CHANNELS)\n",
    "wf.setsampwidth(p.get_sample_size(FORMAT))\n",
    "wf.setframerate(RATE)\n",
    "wf.writeframes(b\"\".join(frames))\n",
    "wf.close()\"\"\""
   ]
  },
  {
   "cell_type": "code",
   "execution_count": null,
   "id": "cb42acc4",
   "metadata": {
    "colab": {
     "base_uri": "https://localhost:8080/",
     "height": 36
    },
    "id": "cb42acc4",
    "outputId": "35df9929-77e3-432c-d7b2-6c6b36c8b3f3"
   },
   "outputs": [],
   "source": [
    "\"\"\"wf = wave.open(\"output.wav\", \"rb\")\n",
    "data = wf.readframes(wf.getnframes())\n",
    "audio = np.frombuffer(data, dtype=np.int16)\n",
    "audio = audio / np.max(np.abs(audio))\n",
    "\"\"\""
   ]
  },
  {
   "cell_type": "code",
   "execution_count": null,
   "id": "735209ed",
   "metadata": {
    "colab": {
     "base_uri": "https://localhost:8080/",
     "height": 36
    },
    "id": "735209ed",
    "outputId": "54a83668-8b02-4f5e-9f80-ac6b2f2e8dcf"
   },
   "outputs": [],
   "source": [
    "\"\"\"plt.plot(audio, label=\"true\")\n",
    "plt.ylabel('Value')\n",
    "plt.xlabel('Time Step')\n",
    "plt.legend()\n",
    "plt.show()\"\"\""
   ]
  },
  {
   "cell_type": "markdown",
   "id": "6c52c726",
   "metadata": {
    "id": "6c52c726"
   },
   "source": [
    "### Code generates synthetic speech signal with noise."
   ]
  },
  {
   "cell_type": "code",
   "execution_count": null,
   "id": "ec567eee",
   "metadata": {
    "id": "ec567eee"
   },
   "outputs": [],
   "source": [
    "\n",
    "# Set sampling rate\n",
    "fs = 16000\n",
    "\n",
    "# Generate time axis\n",
    "t = np.arange(0, 1, 1/fs)\n",
    "\n",
    "# Set fundamental frequency\n",
    "f0 = 100\n",
    "\n",
    "# Generate sine wave\n",
    "sine_wave = np.sin(2*np.pi*f0*t)\n",
    "\n",
    "# Add harmonics\n",
    "for i in range(2, 6):\n",
    "    sine_wave += np.sin(2*np.pi*f0*i*t) / i\n",
    "\n",
    "# Add noise\n",
    "noise = np.random.normal(0, 0.1, len(sine_wave))\n",
    "speech_signal = sine_wave + noise\n",
    "\n",
    "# Normalize amplitude to between -1 and 1\n",
    "speech_signal /= np.max(np.abs(speech_signal))\n",
    "\n",
    "# Play the signal (assuming you have an audio player installed)\n",
    "from scipy.io.wavfile import write\n",
    "write('speech.wav', fs, speech_signal)\n",
    "\n"
   ]
  },
  {
   "cell_type": "code",
   "execution_count": null,
   "id": "892782e3",
   "metadata": {
    "id": "892782e3"
   },
   "outputs": [],
   "source": [
    "signal_len = speech_signal.shape[0]"
   ]
  },
  {
   "cell_type": "code",
   "execution_count": null,
   "id": "af9d8511",
   "metadata": {
    "id": "af9d8511"
   },
   "outputs": [],
   "source": [
    "time = np.arange(0 , signal_len/10 , 0.1)\n",
    "#sin = np.sin(time) + np.random.normal(scale = 0.5 , size = len(time))\n",
    "sin = speech_signal "
   ]
  },
  {
   "cell_type": "code",
   "execution_count": null,
   "id": "d8b50822",
   "metadata": {
    "colab": {
     "base_uri": "https://localhost:8080/",
     "height": 542
    },
    "id": "d8b50822",
    "outputId": "eb904920-8c05-471a-c151-4f1cae5454b1"
   },
   "outputs": [],
   "source": [
    "px.line(sin , title= 'sine function with noise')"
   ]
  },
  {
   "cell_type": "code",
   "execution_count": null,
   "id": "f50f430b",
   "metadata": {
    "id": "f50f430b"
   },
   "outputs": [],
   "source": [
    "df = pd.DataFrame(dict(sine = sin), index = time , columns = ['sine'])"
   ]
  },
  {
   "cell_type": "code",
   "execution_count": null,
   "id": "f329f62d",
   "metadata": {
    "colab": {
     "base_uri": "https://localhost:8080/",
     "height": 423
    },
    "id": "f329f62d",
    "outputId": "48be35c1-5a1b-4b39-900e-e947c3f8ec9e"
   },
   "outputs": [],
   "source": [
    "df"
   ]
  },
  {
   "cell_type": "code",
   "execution_count": null,
   "id": "166d6efb",
   "metadata": {
    "colab": {
     "base_uri": "https://localhost:8080/"
    },
    "id": "166d6efb",
    "outputId": "bcbc7235-dae1-420c-fd04-4be1249bb297"
   },
   "outputs": [],
   "source": [
    "train = df.iloc[: int(signal_len*0.8)]\n",
    "test = df.iloc[int(signal_len*0.8):]\n",
    "print(len(train) , len(test))"
   ]
  },
  {
   "cell_type": "code",
   "execution_count": null,
   "id": "4a5c79e7",
   "metadata": {
    "id": "4a5c79e7"
   },
   "outputs": [],
   "source": [
    "def create_dataset(X, y, time_steps=1):\n",
    "    \n",
    "    \n",
    "    \"\"\"\n",
    "    Works with single features(univariate) and multiple features\n",
    " \n",
    "    \"\"\"\n",
    "    Xs, ys = [], []\n",
    "    for i in range(len(X) - time_steps):\n",
    "        v = X.iloc[i:(i + time_steps)].values\n",
    "        Xs.append(v)\n",
    "        ys.append(y.iloc[i + time_steps])\n",
    "    return np.array(Xs), np.array(ys)\n"
   ]
  },
  {
   "cell_type": "markdown",
   "id": "f432f16c",
   "metadata": {
    "id": "f432f16c"
   },
   "source": [
    "### Split the data"
   ]
  },
  {
   "cell_type": "code",
   "execution_count": null,
   "id": "1dd1d041",
   "metadata": {
    "id": "1dd1d041"
   },
   "outputs": [],
   "source": [
    "time_steps = 10"
   ]
  },
  {
   "cell_type": "code",
   "execution_count": null,
   "id": "22dbbd4e",
   "metadata": {
    "colab": {
     "base_uri": "https://localhost:8080/"
    },
    "id": "22dbbd4e",
    "outputId": "0c23604d-3b49-4eb0-dd6a-4408d03a45b6"
   },
   "outputs": [],
   "source": [
    "# reshape to [samples, time_steps, n_features]\n",
    "X_train, y_train = create_dataset(train, train.sine, time_steps)\n",
    "X_test, y_test = create_dataset(test, test.sine, time_steps)\n",
    "print(X_train.shape, y_train.shape)\n"
   ]
  },
  {
   "cell_type": "code",
   "execution_count": null,
   "id": "a070a86b",
   "metadata": {
    "colab": {
     "base_uri": "https://localhost:8080/"
    },
    "id": "a070a86b",
    "outputId": "297eaec9-4fe4-4fc1-ff12-b16cd38cccb5"
   },
   "outputs": [],
   "source": [
    "print(f\"X trian : {X_train[0:2]}\")\n",
    "print(f\"Y trian : {y_train[0]}\")"
   ]
  },
  {
   "cell_type": "markdown",
   "id": "01cc32e3",
   "metadata": {
    "id": "01cc32e3"
   },
   "source": [
    "### Train the model"
   ]
  },
  {
   "cell_type": "code",
   "execution_count": null,
   "id": "b3f64ebc",
   "metadata": {
    "id": "b3f64ebc"
   },
   "outputs": [],
   "source": [
    "model = keras.Sequential()\n",
    "model.add(keras.layers.LSTM(\n",
    " units=128,\n",
    " input_shape=(X_train.shape[1], X_train.shape[2])))\n",
    "model.add(keras.layers.Dense(units=1))\n",
    "model.compile( loss='mean_squared_error',optimizer=keras.optimizers.Adam(0.001))"
   ]
  },
  {
   "cell_type": "code",
   "execution_count": null,
   "id": "12acf574",
   "metadata": {
    "colab": {
     "base_uri": "https://localhost:8080/"
    },
    "id": "12acf574",
    "outputId": "27966df2-456c-42d6-bafe-ae0bcfa9a039",
    "scrolled": true
   },
   "outputs": [],
   "source": [
    "history = model.fit(\n",
    " X_train, y_train,\n",
    " epochs=3,\n",
    " batch_size=16,\n",
    " validation_split=0.1,\n",
    " verbose=1,\n",
    " shuffle=False\n",
    ")"
   ]
  },
  {
   "cell_type": "code",
   "execution_count": null,
   "id": "e0ad090a",
   "metadata": {
    "colab": {
     "base_uri": "https://localhost:8080/",
     "height": 842
    },
    "id": "e0ad090a",
    "outputId": "7a2510e0-6567-40df-c91c-64e24677601c"
   },
   "outputs": [],
   "source": [
    "plt.plot(history.history['loss'], label='Training loss')\n",
    "plt.plot(history.history['val_loss'], label='Validation loss')\n",
    "plt.legend();"
   ]
  },
  {
   "cell_type": "code",
   "execution_count": null,
   "id": "1ead3392",
   "metadata": {
    "colab": {
     "base_uri": "https://localhost:8080/"
    },
    "id": "1ead3392",
    "outputId": "8a190e95-3f9b-4aa3-a814-2a8a442f22ca"
   },
   "outputs": [],
   "source": [
    "y_pred = model.predict(X_test)"
   ]
  },
  {
   "cell_type": "code",
   "execution_count": null,
   "id": "26f7c3e8",
   "metadata": {
    "id": "26f7c3e8"
   },
   "outputs": [],
   "source": [
    "reshaped_y_train = np.reshape(y_train, (int(0.8*signal_len) - 10, 1))\n",
    "reshaped_y_test = np.reshape(y_test, (int(signal_len*0.2) - 10, 1))\n",
    "\n",
    "data = np.concatenate((reshaped_y_train, reshaped_y_test , y_pred), axis=0)"
   ]
  },
  {
   "cell_type": "markdown",
   "id": "8bcdb79e",
   "metadata": {
    "id": "8bcdb79e"
   },
   "source": [
    "### Train and Test data"
   ]
  },
  {
   "cell_type": "code",
   "execution_count": null,
   "id": "b24bc472",
   "metadata": {
    "colab": {
     "base_uri": "https://localhost:8080/",
     "height": 542
    },
    "id": "b24bc472",
    "outputId": "c49da079-ca57-4f7e-aef4-0a827eeae8a6"
   },
   "outputs": [],
   "source": [
    "fig = px.line(data , x = np.arange(0 , len(X_train)) , y =y_train)\n",
    "fig.add_scatter(x = np.arange(len(y_train) , len(y_train) + len(y_test)), y = y_test, mode='lines', name='Line 2')\n",
    "fig.add_scatter(x = np.arange(len(y_train) , len(y_train) + len(y_test)), y = y_pred, mode='lines', name='Line 2')"
   ]
  },
  {
   "cell_type": "markdown",
   "id": "6a10db5e",
   "metadata": {
    "id": "6a10db5e"
   },
   "source": [
    "### Train and Test data with the predicted signal plotted with them"
   ]
  },
  {
   "cell_type": "code",
   "execution_count": null,
   "id": "dc0eba52",
   "metadata": {
    "colab": {
     "base_uri": "https://localhost:8080/",
     "height": 872
    },
    "id": "dc0eba52",
    "outputId": "40b3b1d4-393d-4e7a-b016-0e49f9e05d77"
   },
   "outputs": [],
   "source": [
    "plt.plot(np.arange(0, len(y_train)), y_train, 'g', label=\"history\")\n",
    "plt.plot(np.arange(len(y_train), len(y_train) + len(y_test)), y_test, marker='.', label=\"true\")\n",
    "plt.plot(np.arange(len(y_train), len(y_train) + len(y_test)), y_pred, 'r', label=\"predicted\")\n",
    "plt.ylabel('Value')\n",
    "plt.xlabel('Time Step')\n",
    "plt.legend()\n",
    "plt.show();"
   ]
  },
  {
   "cell_type": "markdown",
   "id": "c2b3ec90",
   "metadata": {
    "id": "c2b3ec90"
   },
   "source": [
    "### Predicted Signal"
   ]
  },
  {
   "cell_type": "code",
   "execution_count": null,
   "id": "6c8867f6",
   "metadata": {
    "colab": {
     "base_uri": "https://localhost:8080/",
     "height": 542
    },
    "id": "6c8867f6",
    "outputId": "4cdce754-5a28-4104-a1a4-0651efdd3a29"
   },
   "outputs": [],
   "source": [
    "px.line(y_pred)"
   ]
  },
  {
   "cell_type": "code",
   "execution_count": null,
   "id": "9bb90144",
   "metadata": {
    "id": "9bb90144"
   },
   "outputs": [],
   "source": []
  },
  {
   "cell_type": "code",
   "execution_count": null,
   "id": "329326d7",
   "metadata": {
    "colab": {
     "base_uri": "https://localhost:8080/",
     "height": 872
    },
    "id": "329326d7",
    "outputId": "922628ba-7661-4541-f060-925a6ad96b97"
   },
   "outputs": [],
   "source": [
    "plt.plot(y_test, marker='.', label=\"true\")\n",
    "plt.plot(y_pred, 'r', label=\"prediction\")\n",
    "plt.ylabel('Value')\n",
    "plt.xlabel('Time Step')\n",
    "plt.legend()\n",
    "plt.show()"
   ]
  },
  {
   "cell_type": "code",
   "execution_count": null,
   "id": "2fe501ef",
   "metadata": {
    "id": "2fe501ef"
   },
   "outputs": [],
   "source": [
    "window_size = 51\n",
    "y_pred_flatten = y_pred.flatten()"
   ]
  },
  {
   "cell_type": "code",
   "execution_count": null,
   "id": "3e9d244d",
   "metadata": {
    "id": "3e9d244d"
   },
   "outputs": [],
   "source": []
  },
  {
   "cell_type": "code",
   "execution_count": null,
   "id": "1f46eb73",
   "metadata": {
    "colab": {
     "base_uri": "https://localhost:8080/"
    },
    "id": "1f46eb73",
    "outputId": "8ab09930-57b7-4e7b-e410-913162a591bb"
   },
   "outputs": [],
   "source": [
    "\n",
    "window_size = 25\n",
    "weights = np.ones(window_size)/window_size\n",
    "mode = 'same'\n",
    "\n",
    "y_smooth = np.convolve(y_pred_flatten, weights, mode=mode)\n",
    "\n",
    "print(y_smooth.shape) # Output: (190,)\n"
   ]
  },
  {
   "cell_type": "code",
   "execution_count": null,
   "id": "67e6607d",
   "metadata": {
    "colab": {
     "base_uri": "https://localhost:8080/",
     "height": 872
    },
    "id": "67e6607d",
    "outputId": "ba6a7ce5-a8f1-48e7-9238-8ff8ce93ecef"
   },
   "outputs": [],
   "source": [
    "plt.plot(y_test, label=\"true\")\n",
    "plt.plot(y_smooth*1/2, 'r', label=\"prediction\")\n",
    "plt.ylabel('Value')\n",
    "plt.xlabel('Time Step')\n",
    "plt.legend()\n",
    "plt.show()"
   ]
  },
  {
   "cell_type": "code",
   "execution_count": null,
   "id": "250ab99a",
   "metadata": {
    "id": "250ab99a"
   },
   "outputs": [],
   "source": [
    "y_pred_flat = y_pred.flatten()\n",
    "sin_flat = sin.flatten()\n",
    "corr = np.correlate(y_pred_flat, sin_flat[800:990], mode='full')"
   ]
  },
  {
   "cell_type": "code",
   "execution_count": null,
   "id": "4e0fef3c",
   "metadata": {
    "colab": {
     "base_uri": "https://localhost:8080/",
     "height": 542
    },
    "id": "4e0fef3c",
    "outputId": "19ba8b43-fff7-4fc7-9764-2d52b58d504e"
   },
   "outputs": [],
   "source": [
    "px.line(corr)"
   ]
  },
  {
   "cell_type": "code",
   "execution_count": null,
   "id": "fd2fb9d5",
   "metadata": {
    "id": "fd2fb9d5"
   },
   "outputs": [],
   "source": [
    "import statsmodels.graphics.tsaplots as sgt \n",
    "import statsmodels.tsa.stattools as sts \n",
    "from statsmodels.tsa.seasonal import seasonal_decompose\n",
    "import seaborn as sns"
   ]
  },
  {
   "cell_type": "code",
   "execution_count": null,
   "id": "108219b3",
   "metadata": {
    "colab": {
     "base_uri": "https://localhost:8080/"
    },
    "id": "108219b3",
    "outputId": "979cfdc7-878b-4335-8f89-5a2e403a966a"
   },
   "outputs": [],
   "source": [
    "y_smooth.shape"
   ]
  },
  {
   "cell_type": "code",
   "execution_count": null,
   "id": "4a7b2486",
   "metadata": {
    "id": "4a7b2486"
   },
   "outputs": [],
   "source": [
    "y_smooth = y_smooth*3\n",
    "X = np.fft.fft(y_smooth)"
   ]
  },
  {
   "cell_type": "code",
   "execution_count": null,
   "id": "47723691",
   "metadata": {
    "colab": {
     "base_uri": "https://localhost:8080/",
     "height": 582
    },
    "id": "47723691",
    "outputId": "af38548f-7f8f-4673-8ecf-7737507713e8"
   },
   "outputs": [],
   "source": [
    "t = np.arange(0, 1, 1/signal_len)\n",
    "\n",
    "freqs = np.fft.fftfreq(len(y_smooth), d=t[1]-t[0])\n",
    "\n",
    "# Plot the original signal and its Fourier transform\n",
    "fig, axs = plt.subplots(2, 1, figsize=(8, 6))\n",
    "axs[0].plot(t[int(signal_len*0.8)+ 10:], y_smooth)\n",
    "axs[0].set_xlabel('Time')\n",
    "axs[0].set_ylabel('Amplitude')\n",
    "axs[0].set_title('Smoothed signal')\n",
    "axs[1].stem(freqs, np.abs(X))\n",
    "axs[1].set_xlabel('Frequency (Hz)')\n",
    "axs[1].set_ylabel('Magnitude')\n",
    "axs[1].set_xlim(-1000, 1000)\n",
    "axs[1].set_title('Fourier transform')\n",
    "\n",
    "plt.tight_layout()\n",
    "plt.show()"
   ]
  },
  {
   "cell_type": "code",
   "execution_count": null,
   "id": "44d1426e",
   "metadata": {
    "colab": {
     "base_uri": "https://localhost:8080/",
     "height": 76
    },
    "id": "44d1426e",
    "outputId": "070ac8af-d26c-480b-d8be-64470698b5fb"
   },
   "outputs": [],
   "source": [
    "from IPython.display import Audio\n",
    "\n",
    "# Generate a sine wave signal with a frequency of 440 Hz for 2 seconds\n",
    "sample_rate = 44100\n",
    "duration = 2\n",
    "frequency = 440\n",
    "#t = np.linspace(0, duration, int(sample_rate * duration), False)\n",
    "#signal = np.sin(frequency * 2 * np.pi * t)\n",
    "\n",
    "# Play the signal as audio in Jupyter Notebook\n",
    "Audio(data=y_smooth, rate=20000)"
   ]
  },
  {
   "cell_type": "code",
   "execution_count": null,
   "id": "b198df87",
   "metadata": {
    "colab": {
     "base_uri": "https://localhost:8080/"
    },
    "id": "b198df87",
    "outputId": "df18e1b7-ee53-40fc-9e0a-e8561ccf527e"
   },
   "outputs": [],
   "source": [
    "!pip install fbprophet\n",
    "#!pip install prophet"
   ]
  },
  {
   "cell_type": "code",
   "execution_count": null,
   "id": "fd532f92",
   "metadata": {
    "colab": {
     "base_uri": "https://localhost:8080/",
     "height": 304
    },
    "id": "fd532f92",
    "outputId": "d9489529-7227-4be0-df19-e85e0bc8efc5"
   },
   "outputs": [],
   "source": [
    "from fbprophet import Prophet"
   ]
  },
  {
   "cell_type": "code",
   "execution_count": null,
   "id": "0019c434",
   "metadata": {
    "id": "0019c434"
   },
   "outputs": [],
   "source": []
  },
  {
   "cell_type": "code",
   "execution_count": null,
   "id": "bab35d3b",
   "metadata": {
    "id": "bab35d3b"
   },
   "outputs": [],
   "source": []
  },
  {
   "cell_type": "code",
   "execution_count": null,
   "id": "3ebb4ab3",
   "metadata": {
    "id": "3ebb4ab3"
   },
   "outputs": [],
   "source": []
  },
  {
   "cell_type": "code",
   "execution_count": null,
   "id": "5d8d561c",
   "metadata": {
    "id": "5d8d561c"
   },
   "outputs": [],
   "source": []
  },
  {
   "cell_type": "code",
   "execution_count": null,
   "id": "010ed7f3",
   "metadata": {
    "id": "010ed7f3"
   },
   "outputs": [],
   "source": []
  },
  {
   "cell_type": "code",
   "execution_count": null,
   "id": "e4b0408f",
   "metadata": {
    "id": "e4b0408f"
   },
   "outputs": [],
   "source": []
  },
  {
   "cell_type": "code",
   "execution_count": null,
   "id": "57dd5f21",
   "metadata": {
    "id": "57dd5f21"
   },
   "outputs": [],
   "source": []
  }
 ],
 "metadata": {
  "colab": {
   "provenance": []
  },
  "kernelspec": {
   "display_name": "Python 3",
   "language": "python",
   "name": "python3"
  },
  "language_info": {
   "codemirror_mode": {
    "name": "ipython",
    "version": 3
   },
   "file_extension": ".py",
   "mimetype": "text/x-python",
   "name": "python",
   "nbconvert_exporter": "python",
   "pygments_lexer": "ipython3",
   "version": "3.8.8"
  }
 },
 "nbformat": 4,
 "nbformat_minor": 5
}
